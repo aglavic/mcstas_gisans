{
 "cells": [
  {
   "cell_type": "code",
   "id": "3604bbfc-d980-49b5-a6ad-988ae26f5457",
   "metadata": {
    "ExecuteTime": {
     "end_time": "2025-10-20T15:43:25.994796Z",
     "start_time": "2025-10-20T15:43:25.975575Z"
    }
   },
   "source": [
    "# Setting environment for McStas execution, see mcstas/bin/mccodeenv.bat\n",
    "import os\n",
    "import shutil\n",
    "PATH = os.environ['PATH']\n",
    "%set_env PATH=C:\\\\mcstas-3.5.24\\\\bin;C:\\\\mcstas-3.5.24\\\\miniconda3;C:\\\\mcstas-3.5.24\\\\miniconda3\\\\Scripts\\\\;C:\\\\mcstas-3.5.24\\\\miniconda3\\\\Library\\\\bin;C:\\\\mcstas-3.5.24\\\\miniconda3\\\\Library\\\\mingw-w64\\\\bin;c:\\\\strawberry\\\\perl\\\\bin;c:\\\\Microsoft MPI\\\\Bin;$PATH\n",
    "# McStas related:\n",
    "%set_env MCSTAS=C:\\\\mcstas-3.5.24\\\\lib\n",
    "%set_env MCSTAS_TOOLS=C:\\\\mcstas-3.5.24\\\\lib\\\\tools\\\\Perl\\\\\n",
    "%set_env MCSTAS_CC=gcc\n",
    "%set_env MCSTAS_FORMAT=\n",
    "# PGPLOT configuration\n",
    "%set_env PGPLOT_DIR=c:\\\\strawberry\\\\perl\\\\site\\\\lib\\\\PGPLOT\\\\pgplot_supp\n",
    "%set_env PGPLOT_FONT=c:\\\\strawberry\\\\perl\\\\site\\\\lib\\\\PGPLOT\\\\pgplot_supp\\\\grfont.dat\n",
    "%set_env PGPLOT_DEV=/gw"
   ],
   "outputs": [
    {
     "name": "stdout",
     "output_type": "stream",
     "text": [
      "env: PATH=C:\\\\mcstas-3.5.24\\\\bin;C:\\\\mcstas-3.5.24\\\\miniconda3;C:\\\\mcstas-3.5.24\\\\miniconda3\\\\Scripts\\\\;C:\\\\mcstas-3.5.24\\\\miniconda3\\\\Library\\\\bin;C:\\\\mcstas-3.5.24\\\\miniconda3\\\\Library\\\\mingw-w64\\\\bin;c:\\\\strawberry\\\\perl\\\\bin;c:\\\\Microsoft MPI\\\\Bin;C:\\Users\\glavic_a\\.conda\\envs\\mcstas_ba;C:\\Users\\glavic_a\\.conda\\envs\\mcstas_ba\\Library\\mingw-w64\\bin;C:\\Users\\glavic_a\\.conda\\envs\\mcstas_ba\\Library\\usr\\bin;C:\\Users\\glavic_a\\.conda\\envs\\mcstas_ba\\Library\\bin;C:\\Users\\glavic_a\\.conda\\envs\\mcstas_ba\\Scripts;C:\\Users\\glavic_a\\.conda\\envs\\mcstas_ba\\bin;C:\\ProgramData\\Anaconda3\\condabin;C:\\Program Files\\Microsoft MPI\\Bin;C:\\Program Files\\ImageMagick;C:\\Windows\\system32;C:\\Windows;C:\\Windows\\System32\\Wbem;C:\\Windows\\System32\\WindowsPowerShell\\v1.0;C:\\Windows\\System32\\OpenSSH;C:\\Program Files\\PSI Tools;C:\\Program Files\\NVIDIA Corporation\\NVIDIA NvDLISR;C:\\Program Files\\NeXus Data Format\\bin;C:\\strawberry\\c\\bin;C:\\strawberry\\perl\\site\\bin;C:\\strawberry\\perl\\bin;C:\\WINDOWS\\system32;C:\\WINDOWS;C:\\WINDOWS\\System32\\Wbem;C:\\WINDOWS\\System32\\WindowsPowerShell\\v1.0;C:\\WINDOWS\\System32\\OpenSSH;C:\\Program Files\\PuTTY;C:\\Program Files\\gs\\gs10.05.1\\bin;C:\\Program Files\\Git\\cmd;C:\\Users\\glavic_a\\AppData\\Local\\Microsoft\\WindowsApps;.;C:\\ProgramData\\Anaconda3\\Library\\Bin\n",
      "env: MCSTAS=C:\\\\mcstas-3.5.24\\\\lib\n",
      "env: MCSTAS_TOOLS=C:\\\\mcstas-3.5.24\\\\lib\\\\tools\\\\Perl\\ %set_env MCSTAS_CC=gcc\n",
      "env: MCSTAS_FORMAT=\n",
      "env: PGPLOT_DIR=c:\\\\strawberry\\\\perl\\\\site\\\\lib\\\\PGPLOT\\\\pgplot_supp\n",
      "env: PGPLOT_FONT=c:\\\\strawberry\\\\perl\\\\site\\\\lib\\\\PGPLOT\\\\pgplot_supp\\\\grfont.dat\n",
      "env: PGPLOT_DEV=/gw\n"
     ]
    }
   ],
   "execution_count": 3
  },
  {
   "metadata": {
    "ExecuteTime": {
     "end_time": "2025-10-21T14:58:33.886905Z",
     "start_time": "2025-10-21T14:58:33.882219Z"
    }
   },
   "cell_type": "code",
   "source": "os.chdir('mcstas')",
   "id": "34e736984ac553f7",
   "outputs": [],
   "execution_count": 19
  },
  {
   "cell_type": "code",
   "id": "7be234ff-042e-4934-97cc-213d0eff073f",
   "metadata": {
    "ExecuteTime": {
     "end_time": "2025-10-21T14:58:40.017635Z",
     "start_time": "2025-10-21T14:58:34.436963Z"
    }
   },
   "source": [
    "# Compile McStas models\n",
    "!mcstas -o GISANS_test.c GISANS_test.instr\n",
    "!gcc -O2 -o GISANS_test.exe GISANS_test.c -lm -lws2_32"
   ],
   "outputs": [
    {
     "name": "stdout",
     "output_type": "stream",
     "text": [
      "\n",
      "-----------------------------------------------------------\n",
      "\n",
      "Generating single GPU kernel or single CPU section layout: \n",
      "-> SPLIT N at component sample\n",
      "\n",
      "-----------------------------------------------------------\n",
      "\n",
      "Generating GPU/CPU -DFUNNEL layout:\n",
      "-> SPLIT within buffer at component sample\n",
      "\n",
      "-----------------------------------------------------------\n"
     ]
    },
    {
     "name": "stderr",
     "output_type": "stream",
     "text": [
      "CFLAGS=\n"
     ]
    }
   ],
   "execution_count": 20
  },
  {
   "cell_type": "code",
   "id": "2064232f-39ba-4876-a946-85c50a528aae",
   "metadata": {
    "ExecuteTime": {
     "end_time": "2025-10-20T15:36:41.675316Z",
     "start_time": "2025-10-20T15:34:26.470102Z"
    }
   },
   "source": [
    "# Create events for sample position, need to remove directory if it exists\n",
    "try:\n",
    "    shutil.rmtree('silica_100nm_air_05m')\n",
    "except FileNotFoundError:  pass\n",
    "!GISANS_test.exe -n 1e4 -d silica_100nm_air_05m collimation=5.0 source_size=0.01 model=silica_100nm_air\n",
    "\n",
    "try:\n",
    "    shutil.rmtree('silica_100nm_air_10m')\n",
    "except FileNotFoundError:  pass\n",
    "!GISANS_test.exe -n 1e4 -d silica_100nm_air_10m collimation=10.0  source_size=0.01 model=silica_100nm_air\n",
    "\n",
    "try:\n",
    "    shutil.rmtree('silica_100nm_air_20m')\n",
    "except FileNotFoundError:  pass\n",
    "!GISANS_test.exe -n 1e4 -d silica_100nm_air_20m collimation=20.0 source_size=0.01 model=silica_100nm_air"
   ],
   "outputs": [
    {
     "name": "stdout",
     "output_type": "stream",
     "text": [
      "[GISANS_test] Initialize\n",
      "  Handshake message sent, ACK\n",
      "\n",
      "Trace ETA (single process) 2 [min] \n",
      "10 %\n",
      "*** TRACE end *** \n",
      "\n",
      "Save [GISANS_test]\n",
      "Detector: total_in_I=99915.8 total_in_ERR=999.78 total_in_N=10000 \"total_in.L\"\n",
      "Detector: total_out_I=109693 total_out_ERR=682.411 total_out_N=1.23e+006 \"total_out.L\"\n",
      "Detector: detector_I=109622 detector_ERR=682.392 detector_N=1.14682e+006 \"detector.psd\"\n",
      "\n",
      "Finally [GISANS_test: output]. Time: 2.23333 [min] \n"
     ]
    }
   ],
   "execution_count": 14
  },
  {
   "cell_type": "code",
   "id": "bab48114-6c47-4127-9876-1ba836ce8dab",
   "metadata": {
    "ExecuteTime": {
     "end_time": "2025-10-21T14:56:56.922423Z",
     "start_time": "2025-10-21T14:56:56.917700Z"
    }
   },
   "source": [
    "try:\n",
    "    shutil.rmtree('hexagonal_spheres_05m')\n",
    "except FileNotFoundError:  pass\n",
    "!GISANS_test.exe -n 1e4 -d hexagonal_spheres_05m collimation=5.0 source_size=0.01 model=hexagonal_spheres\n",
    "\n",
    "try:\n",
    "    shutil.rmtree('hexagonal_spheres_10m')\n",
    "except FileNotFoundError:  pass\n",
    "!GISANS_test.exe -n 1e4 -d hexagonal_spheres_10m collimation=10.0  source_size=0.01 model=hexagonal_spheres\n",
    "\n",
    "try:\n",
    "    shutil.rmtree('hexagonal_spheres_20m')\n",
    "except FileNotFoundError:  pass\n",
    "!GISANS_test.exe -n 1e4 -d hexagonal_spheres_20m collimation=20.0 source_size=0.01 model=hexagonal_spheres"
   ],
   "outputs": [],
   "execution_count": null
  },
  {
   "cell_type": "code",
   "id": "96b19a82-6a5e-4641-93b3-24d5a83747ad",
   "metadata": {
    "ExecuteTime": {
     "end_time": "2025-10-21T14:56:57.097710Z",
     "start_time": "2025-10-21T14:56:57.094199Z"
    }
   },
   "source": "",
   "outputs": [],
   "execution_count": null
  },
  {
   "cell_type": "code",
   "id": "f2e0f75d-9c06-4801-bc57-f5b3d2677688",
   "metadata": {
    "ExecuteTime": {
     "end_time": "2025-10-21T14:56:57.284903Z",
     "start_time": "2025-10-21T14:56:57.278937Z"
    }
   },
   "source": "",
   "outputs": [],
   "execution_count": null
  },
  {
   "cell_type": "code",
   "id": "0d0934e8-9be7-466c-b28a-7a3e25d54592",
   "metadata": {
    "ExecuteTime": {
     "end_time": "2025-10-21T14:35:10.036291Z",
     "start_time": "2025-10-21T14:35:10.029197Z"
    }
   },
   "source": "os.chdir('..')",
   "outputs": [],
   "execution_count": 14
  },
  {
   "metadata": {
    "ExecuteTime": {
     "end_time": "2025-10-21T13:47:13.018118Z",
     "start_time": "2025-10-21T13:47:13.010330Z"
    }
   },
   "cell_type": "code",
   "source": "from BAreference import BARunner, InstrumentConfig",
   "id": "1e4b74074b08e776",
   "outputs": [],
   "execution_count": 12
  },
  {
   "metadata": {
    "ExecuteTime": {
     "end_time": "2025-10-21T14:43:47.783795Z",
     "start_time": "2025-10-21T14:35:58.915892Z"
    }
   },
   "cell_type": "code",
   "source": [
    "model='silica_100nm_air'\n",
    "\n",
    "print('silica_100nm_air 5m')\n",
    "runner = BARunner(ba_model=model, instrument_config=InstrumentConfig(collimation=5.0))\n",
    "runner.simulate()\n",
    "runner.store_result(os.path.join('ba_output', f'{model}_05m.npz'))\n",
    "\n",
    "print('silica_100nm_air 10m')\n",
    "runner = BARunner(ba_model=model, instrument_config=InstrumentConfig(collimation=10.0))\n",
    "runner.simulate()\n",
    "runner.store_result(os.path.join('ba_output', f'{model}_10m.npz'))\n",
    "\n",
    "print('silica_100nm_air 20m')\n",
    "runner = BARunner(ba_model=model, instrument_config=InstrumentConfig(collimation=20.0))\n",
    "runner.simulate()\n",
    "runner.store_result(os.path.join('ba_output', f'{model}_20m.npz'))"
   ],
   "id": "409d5efa9bb7da39",
   "outputs": [
    {
     "name": "stdout",
     "output_type": "stream",
     "text": [
      "silica_100nm_air 20m\n",
      "Generate model\n",
      "  instrument configuration: InstrumentConfig(I0=22187.125, collimation=20.0, source_size=0.01, alpha_i=0.3, wavelength=6.0)\n",
      "  ang_range=0.02499479361892016\n",
      "  beam angular resolution = +/- 0.014323944579855075 degrees\n",
      "Run simulation\n",
      "Extract data\n",
      "Saving to file ba_output\\silica_100nm_air_20m.npz\n"
     ]
    }
   ],
   "execution_count": 16
  },
  {
   "metadata": {
    "ExecuteTime": {
     "end_time": "2025-10-21T14:47:02.678876Z",
     "start_time": "2025-10-21T14:45:54.995981Z"
    }
   },
   "cell_type": "code",
   "source": [
    "model='hexagonal_spheres'\n",
    "\n",
    "print('hexagonal_spheres 5m')\n",
    "runner = BARunner(ba_model=model, instrument_config=InstrumentConfig(collimation=5.0))\n",
    "runner.simulate()\n",
    "runner.store_result(os.path.join('ba_output', f'{model}_05m.npz'))\n",
    "\n",
    "print('hexagonal_spheres 10m')\n",
    "runner = BARunner(ba_model=model, instrument_config=InstrumentConfig(collimation=10.0))\n",
    "runner.simulate()\n",
    "runner.store_result(os.path.join('ba_output', f'{model}_10m.npz'))\n",
    "\n",
    "print('hexagonal_spheres 20m')\n",
    "runner = BARunner(ba_model=model, instrument_config=InstrumentConfig(collimation=20.0))\n",
    "runner.simulate()\n",
    "runner.store_result(os.path.join('ba_output', f'{model}_20m.npz'))"
   ],
   "id": "60f05cb286fe067a",
   "outputs": [
    {
     "name": "stdout",
     "output_type": "stream",
     "text": [
      "hexagonal_spheres 5m\n",
      "Generate model\n",
      "  instrument configuration: InstrumentConfig(I0=354994.0, collimation=5.0, source_size=0.01, alpha_i=0.3, wavelength=6.0)\n",
      "  ang_range=0.09966865249116202\n",
      "  beam angular resolution = +/- 0.057295760414500616 degrees\n",
      "Run simulation\n",
      "Extract data\n",
      "Saving to file ba_output\\hexagonal_spheres_05m.npz\n",
      "hexagonal_spheres 10m\n",
      "Generate model\n",
      "  instrument configuration: InstrumentConfig(I0=88748.5, collimation=10.0, source_size=0.01, alpha_i=0.3, wavelength=6.0)\n",
      "  ang_range=0.04995839572194276\n",
      "  beam angular resolution = +/- 0.02864788736921737 degrees\n",
      "Run simulation\n",
      "Extract data\n",
      "Saving to file ba_output\\hexagonal_spheres_10m.npz\n",
      "hexagonal_spheres 20m\n",
      "Generate model\n",
      "  instrument configuration: InstrumentConfig(I0=22187.125, collimation=20.0, source_size=0.01, alpha_i=0.3, wavelength=6.0)\n",
      "  ang_range=0.02499479361892016\n",
      "  beam angular resolution = +/- 0.014323944579855075 degrees\n",
      "Run simulation\n",
      "Extract data\n",
      "Saving to file ba_output\\hexagonal_spheres_20m.npz\n"
     ]
    }
   ],
   "execution_count": 17
  },
  {
   "metadata": {},
   "cell_type": "code",
   "outputs": [],
   "execution_count": null,
   "source": "",
   "id": "71e4b020a78ca504"
  }
 ],
 "metadata": {
  "kernelspec": {
   "display_name": "Python 3 (ipykernel)",
   "language": "python",
   "name": "python3"
  },
  "language_info": {
   "codemirror_mode": {
    "name": "ipython",
    "version": 3
   },
   "file_extension": ".py",
   "mimetype": "text/x-python",
   "name": "python",
   "nbconvert_exporter": "python",
   "pygments_lexer": "ipython3",
   "version": "3.10.12"
  }
 },
 "nbformat": 4,
 "nbformat_minor": 5
}
